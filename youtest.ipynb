{
 "cells": [
  {
   "cell_type": "code",
   "execution_count": null,
   "metadata": {},
   "outputs": [],
   "source": [
    "pip show pandas"
   ]
  },
  {
   "cell_type": "code",
   "execution_count": null,
   "metadata": {},
   "outputs": [],
   "source": [
    "pip install youtube-transcript-api"
   ]
  },
  {
   "cell_type": "code",
   "execution_count": null,
   "metadata": {},
   "outputs": [],
   "source": [
    "pip install pandas"
   ]
  },
  {
   "cell_type": "code",
   "execution_count": null,
   "metadata": {},
   "outputs": [],
   "source": [
    "pip install JPype1-py3"
   ]
  },
  {
   "cell_type": "code",
   "execution_count": 77,
   "metadata": {},
   "outputs": [
    {
     "name": "stderr",
     "output_type": "stream",
     "text": [
      "57264.32s - pydevd: Sending message related to process being replaced timed-out after 5 seconds\n"
     ]
    },
    {
     "name": "stdout",
     "output_type": "stream",
     "text": [
      "Requirement already satisfied: konlpy in /Users/subeenseo/.conda/envs/문해기/lib/python3.10/site-packages (0.6.0)\n",
      "Requirement already satisfied: JPype1>=0.7.0 in /Users/subeenseo/.conda/envs/문해기/lib/python3.10/site-packages (from konlpy) (1.5.0)\n",
      "Requirement already satisfied: lxml>=4.1.0 in /Users/subeenseo/.conda/envs/문해기/lib/python3.10/site-packages (from konlpy) (5.2.1)\n",
      "Requirement already satisfied: numpy>=1.6 in /Users/subeenseo/.conda/envs/문해기/lib/python3.10/site-packages (from konlpy) (1.26.4)\n",
      "Requirement already satisfied: packaging in /Users/subeenseo/.conda/envs/문해기/lib/python3.10/site-packages (from JPype1>=0.7.0->konlpy) (24.0)\n"
     ]
    }
   ],
   "source": [
    "! pip install konlpy "
   ]
  },
  {
   "cell_type": "code",
   "execution_count": 1,
   "metadata": {},
   "outputs": [
    {
     "name": "stdout",
     "output_type": "stream",
     "text": [
      "Intel MKL WARNING: Support of Intel(R) Streaming SIMD Extensions 4.2 (Intel(R) SSE4.2) enabled only processors has been deprecated. Intel oneAPI Math Kernel Library 2025.0 will require Intel(R) Advanced Vector Extensions (Intel(R) AVX) instructions.\n",
      "Intel MKL WARNING: Support of Intel(R) Streaming SIMD Extensions 4.2 (Intel(R) SSE4.2) enabled only processors has been deprecated. Intel oneAPI Math Kernel Library 2025.0 will require Intel(R) Advanced Vector Extensions (Intel(R) AVX) instructions.\n"
     ]
    }
   ],
   "source": [
    "from konlpy.tag import Okt\n",
    "from konlpy.tag import Kkma \n",
    "from konlpy.tag import Komoran\n",
    "import pandas as pd"
   ]
  },
  {
   "cell_type": "markdown",
   "metadata": {},
   "source": [
    "자막 추출"
   ]
  },
  {
   "cell_type": "code",
   "execution_count": 2,
   "metadata": {},
   "outputs": [],
   "source": [
    "from youtube_transcript_api import YouTubeTranscriptApi\n",
    "\n",
    "video_id = \"xNMGGQIU8FU&list=PLMsa_0kAjjrdiwQykI8eb3H4IRxLTqCnP&index=3\"  # 다운로드하고자 하는 YouTube 비디오 ID\n",
    "transcript_list = YouTubeTranscriptApi.list_transcripts(\"xNMGGQIU8FU&list=PLMsa_0kAjjrdiwQykI8eb3H4IRxLTqCnP&index=3\")\n",
    "\n",
    "# 한국어로 된 자막을 선택\n",
    "transcript = transcript_list.find_transcript(['ko'])\n",
    "\n",
    "if transcript:\n",
    "    with open(\"subtitles.txt\", \"w\", encoding='utf-8') as f:\n",
    "        for caption in transcript.fetch():\n",
    "            text = caption['text']\n",
    "            f.write(f\"{text}\\n\")\n",
    "else:\n",
    "    print(\"한국어 자막을 찾을 수 없습니다.\")"
   ]
  },
  {
   "cell_type": "markdown",
   "metadata": {},
   "source": [
    "문장 확인(원본)"
   ]
  },
  {
   "cell_type": "markdown",
   "metadata": {},
   "source": [
    "추출해보기\n",
    "1. 불용어 제거 -> 명확한 토큰화 // 파일 받아와서이용 https://github.com/stopwords-iso/stopwords-ko?tab=readme-ov-file\n",
    "2. 명사 추출\n",
    "3. 동사 추출"
   ]
  },
  {
   "cell_type": "code",
   "execution_count": 3,
   "metadata": {},
   "outputs": [
    {
     "name": "stdout",
     "output_type": "stream",
     "text": [
      "시작 페이지 에는 얘기 x 놀라서 다 버리시고 \n",
      " 왼쪽 위 파일 새로 만들기 프로젝트 \n",
      " 이제 클릭 하고 윈도우 cd x 톱 윈도우즈 데스크 마법사 클릭 하고 \n",
      " 이름 플로 거리 라고 좋겠습니다 \n",
      " 이제 확인 눌러 주시구요 \n",
      " 서는 이제 추가 옵션 빈 프로젝트 만하 \n",
      " 미리 컴파일 된 헤더 는 없애 버리시고 깨끗한 상태 한번 시작 해 볼게요 \n",
      " 확인 \n",
      " 이렇게 하고 니까 왼쪽 솔루션 생기 헬로 5월 b 라는 프로젝트 \n",
      " 생겼습니다 \n",
      " 참조 외부 종 속성 요런 홀더 도 생기고요 \n",
      " 할 은 이제 소스 파일 이랑 폴더 오른쪽 클릭 추가 새 \n",
      " 항목 클릭 해 보고 요 이제 처음 코딩 시작 해 보는 거 예요 \n",
      " 쪽 c 플러스 플러스 알파 이라고 적혀있는데 요 거 확대 상태 \n",
      " 이름 은 \n",
      " 펠 오월드 점 c 라고만 주세요 \n",
      " cpp 적어 버리면 10 플러스 플러스 되어서 는 싫어할 거 \n",
      " 기 때문 취 까지만 적어주시고 추가 누르시면 됩니다 \n",
      " 새로운 창 열리고 헬로 월드 c 라는 파일 이니 만들어졌죠 \n",
      " 서는 예제 한번 적어 볼게요 지금 은 내용 모르셔도 괜찮으니까 \n",
      " 접으시고 나중 차차 내용 대해 서 설명 드리도록 \n",
      " 하겠습니다 \n",
      "  킹 크루즈 \n",
      " 꺽쇠 열고 stdio h \n",
      " 턱선 갖고 \n",
      " 피 니 트 밍 하루 열고 보이드 \n",
      " 악보 중 괄호 열고 달아요 \n",
      " 여기는 꺽 작은 가로 중 가로 \n",
      " 과로 들이 많이 나온다 o 핑 테스트 앱 스크 \n",
      " 열고 큰따옴표 \n",
      " 헬로 뭐 됩니까 \n",
      " 까지만 적고 오른쪽 맨 끝 세미콜론 주세요 \n",
      " 땅 주 탐 \n",
      " 세미콜론 이렇게 하고 컨트롤 보벌 누르면 실행 됩니다 \n",
      " 게 만든 프로그램 이고 \n",
      " 직접 실행 시켜 보는 거 에요 \n",
      " 실행 시켜 보면 \n",
      " 이렇게 커맨드 창 뜨고 입력 했던 헬로 월드 라는 글자 \n",
      " 출력 됩니다 \n",
      " 항상 끝 에는 뭐 계속 하려면 아무 키 누르십시오 라고 나오구요 \n",
      " 이렇게 첫 번째 프로그램 은 완성 되었고 이제 이렇게 \n",
      " 되면 환경 설정 다 끝난 거 에요 \n",
      " 앞 으론 더 자세히 쉽게 \n",
      " 한번 프로그램 배워 보도록 하겠습니다 \n",
      "\n"
     ]
    }
   ],
   "source": [
    "from konlpy.tag import Okt\n",
    "\n",
    "def removestopwords(text, stop_words):\n",
    "    okt = Okt()\n",
    "    text = text.replace('#', '')\n",
    "    tokens = okt.morphs(text)\n",
    "    tokens = [token for token in tokens if token not in stop_words]\n",
    "    return ' '.join(tokens)\n",
    "# 불용어 집합(Set)을 파일로부터 읽어오기\n",
    "with open('/Users/subeenseo/Desktop/4-1/SW/stopwords-ko.txt', 'r', encoding='utf-8') as file:\n",
    "    stop_words = set(line.strip() for line in file)\n",
    "# 원본자막\n",
    "with open('/Users/subeenseo/Desktop/4-1/SW/subtitles.txt', 'r') as f:\n",
    "    file_data = f.read()\n",
    "# 텍스트에서 불용어 제거\n",
    "filtered_sentences = removestopwords(file_data,stop_words)\n",
    "print(filtered_sentences)"
   ]
  },
  {
   "cell_type": "markdown",
   "metadata": {},
   "source": [
    "단어 출력 실행 속도랑 결과  비교하기! 한글자인것은 제외하고 저장"
   ]
  },
  {
   "cell_type": "code",
   "execution_count": 4,
   "metadata": {},
   "outputs": [],
   "source": [
    "def filter_words(words):\n",
    "    filtered_words = []\n",
    "    for word in words:\n",
    "        if len(word) > 1: \n",
    "            filtered_words.append(word)\n",
    "    return filtered_words"
   ]
  },
  {
   "cell_type": "code",
   "execution_count": 5,
   "metadata": {},
   "outputs": [
    {
     "name": "stdout",
     "output_type": "stream",
     "text": [
      "['시작', '페이지', '얘기', '왼쪽', '파일', '프로젝트', '클릭', '윈도우', '윈도', '우즈', '데스크', '마법사', '클릭', '이름', '플로', '거리', '라고', '확인', '추가', '옵션', '프로젝트', '컴파일', '헤더', '상태', '시작', '확인', '왼쪽', '솔루션', '생기', '헬로', '5월', '프로젝트', '참조', '외부', '속성', '소스', '파일', '이랑', '폴더', '오른쪽', '클릭', '추가', '항목', '클릭', '처음', '시작', '플러스', '플러스', '알파', '확대', '상태', '이름', '월드', '라고', '플러스', '플러스', '때문', '추가', '헬로', '월드', '파일', '예제', '내용', '나중', '차차', '내용', '설명', '크루즈', '하루', '보이', '악보', '괄호', '가로', '가로', '테스트', '따옴표', '헬로', '오른쪽', '세미', '콜론 주', '세미', '콜론', '컨트롤', '실행', '프로그램', '이고', '실행', '실행', '입력', '헬로', '월드', '글자', '출력', '아무 키', '라고', '프로그램', '완성', '환경', '설정', '프로그램']\n"
     ]
    }
   ],
   "source": [
    "komo = Komoran()\n",
    "filtered_nouns = filter_words(komo.nouns(filtered_sentences))\n",
    "print(filtered_nouns)"
   ]
  },
  {
   "cell_type": "code",
   "execution_count": 6,
   "metadata": {},
   "outputs": [
    {
     "name": "stdout",
     "output_type": "stream",
     "text": [
      "['시작', '페이지', '얘기', '왼쪽', '파일', '만들기', '프로젝트', '클릭', '윈도', '윈도우', '윈도우즈', '데스크', '마법사', '이름', '거리', '확인', '추가', '옵션', '미리', '컴파일', '헤더', '버리시고', '상태', '한번', '솔루션', '생기', '5월', '참조', '외부', '속성', '홀더', '이제', '소스', '오른쪽', '항목', '보고', '처음', '코딩', '플러스', '확대', '오월드', '월드', '10', '때문', '예제', '내용', '나중', '설명', '크루즈', '꺽쇠', '열고', '하루', '보이드', '악보', '괄호', '여기', '가로', '과로', '테스트', '스크', '큰따옴표', '세미', '세미콜론', '콜론', '주세', '컨트롤', '보벌', '실행', '프로그램', '커맨드', '입력', '글자', '출력', '번째', '완성', '환경', '설정']\n"
     ]
    }
   ],
   "source": [
    "kkma = Kkma()\n",
    "filtered_nouns= filter_words(kkma.nouns(filtered_sentences))\n",
    "print(filtered_nouns)"
   ]
  },
  {
   "cell_type": "markdown",
   "metadata": {},
   "source": [
    "동사도 추출할 경우 pos"
   ]
  },
  {
   "cell_type": "code",
   "execution_count": 10,
   "metadata": {},
   "outputs": [
    {
     "name": "stdout",
     "output_type": "stream",
     "text": [
      "명사: ['시작', '페이지', '얘기', '왼쪽', '파일', '프로젝트', '클릭', '윈도우', '윈도', '우즈', '데스크', '마법사', '클릭', '이름', '플로', '거리', '라고', '확인', '추가', '옵션', '프로젝트', '컴파일', '헤더', '상태', '시작', '확인', '왼쪽', '솔루션', '생기', '헬로', '5월', '프로젝트', '참조', '외부', '속성', '소스', '파일', '이랑', '폴더', '오른쪽', '클릭', '추가', '항목', '클릭', '처음', '시작', '플러스', '플러스', '알파', '확대', '상태', '이름', '월드', '라고', '플러스', '플러스', '때문', '추가', '헬로', '월드', '파일', '예제', '내용', '나중', '차차', '내용', '설명', '크루즈', '하루', '보이', '악보', '괄호', '여기', '가로', '가로', '테스트', '스크', '따옴표', '헬로', '오른쪽', '세미', '콜론 주', '세미', '콜론', '컨트롤', '실행', '프로그램', '이고', '실행', '실행', '입력', '헬로', '월드', '글자', '출력', '아무 키', '라고', '프로그램', '완성', '환경', '설정', '프로그램']\n",
      "동사: ['놀라', '버리', '만들', '누르', '없애', '버리', '이렇', '생기', '생기', '적히', '버리', '싫어하', '누르', '새롭', '열리', '만들', '모르', '괜찮', '대하', '드리', '나오', '이렇', '누르', '만들', '시키', '시키', '이렇', '누르', '나오', '이렇', '이렇', '끝나', '배우']\n"
     ]
    }
   ],
   "source": [
    "morphs = komo.pos(filtered_sentences)\n",
    "nouns = [word for word, pos in morphs if pos.startswith('N')]\n",
    "verbs = [word for word, pos in morphs if pos.startswith('V')]\n",
    "nouns = filter_words(nouns)\n",
    "verbs = filter_words(verbs)\n",
    "print(\"명사:\", nouns)\n",
    "print(\"동사:\", verbs)"
   ]
  },
  {
   "cell_type": "code",
   "execution_count": 11,
   "metadata": {},
   "outputs": [
    {
     "name": "stdout",
     "output_type": "stream",
     "text": [
      "명사: ['시작', '페이지', '얘기', '왼쪽', '파일', '만들기', '프로젝트', '클릭', '윈도', '윈도우', '데스크', '마법사', '클릭', '이름', '거리', '확인', '추가', '옵션', '프로젝트', '컴파일', '헤더', '상태', '한번', '시작', '확인', '왼쪽', '솔루션', '생기', '프로젝트', '참조', '외부', '속성', '홀더', '이제', '소스', '파일', '오른쪽', '클릭', '추가', '항목', '클릭', '보고', '처음', '코딩', '시작', '플러스', '플러스', '확대', '상태', '이름', '월드', '10', '플러스', '플러스', '때문', '추가', '월드', '파일', '예제', '내용', '나중', '내용', '설명', '크루즈', '꺽쇠', '열고', '하루', '열고', '보이드', '악보', '괄호', '열고', '여기', '가로', '가로', '과로', '테스트', '열고', '큰따옴표', '오른쪽', '세미', '콜론', '주세', '세미', '콜론', '컨트롤', '실행', '프로그램', '실행', '실행', '커맨드', '입력', '월드', '글자', '출력', '번째', '프로그램', '완성', '환경', '설정', '한번', '프로그램']\n",
      "동사: ['놀라', '버리', '눌르', '없애', '이렇', '생기', '생기', '적히', '버리', '누르', '새롭', '열리', '만들', '모르', '괜찮', '대하', '드리', '나오', '이렇', '누르', '만들', '시키', '시키', '누르', '나오', '이렇', '끝나', '배우']\n"
     ]
    }
   ],
   "source": [
    "morphs= kkma.pos(filtered_sentences)\n",
    "nouns = [word for word, pos in morphs if pos.startswith('N')]\n",
    "verbs = [word for word, pos in morphs if pos.startswith('V')]\n",
    "nouns = filter_words(nouns)\n",
    "verbs = filter_words(verbs)\n",
    "print(\"명사:\", nouns)\n",
    "print(\"동사:\", verbs)"
   ]
  },
  {
   "cell_type": "code",
   "execution_count": 80,
   "metadata": {},
   "outputs": [
    {
     "name": "stdout",
     "output_type": "stream",
     "text": [
      "['시작', '시작페이지', '페이지', '얘기', '왼쪽', '위의', '파일', '만들기', '프로젝트', '클릭', '윈도', '윈도우', '우', '톱', '윈도우즈', '즈', '데스크', '마법사', '이름', '플', '거리', '확인', '여기', '추가', '옵션', '컴파일', '헤더', '버리시고', '상태', '솔루션', '로', '5', '5월', '월', '라', '참조', '외부', '종속', '홀더', '도', '우리', '이제', '소스', '폴더', '오른쪽', '항목', '보고', '여러분', '처음', '코딩', '거', '이쪽', '플러스', '알', '요거', '확대', '펠로', '오', '오월드', '월드', '점', '10', '기', '때문', '취', '창', '예제', '지금', '내용', '나중', '설명', '킹', '크루즈', '꺽쇠', '턱', '턱선', '선', '피', '니', '밍', '하루', '열고', '보이드', '악', '악보', '보', '다음', '중', '괄호', '3', '가로', '중', '과로', '테스트', '앱', '스크', '큰따옴표', '뭐', '맨', '끝', '세미', '세미콜론', '콜론', '주세', '땅', '주', '1', '0', '4', '컨트롤', '보벌', '벌', '을', '실행', '이것', '프로그램', '커맨드', '창이', '하나', '입력', '글자', '출력', '계속', '키나', '번째', '완성', '환경', '설정', '앞', '한번']\n"
     ]
    }
   ],
   "source": [
    "from konlpy.tag import Kkma\n",
    "kkma = Kkma()\n",
    "# 파일 열기\n",
    "with open('/Users/subeenseo/Desktop/4-1/SW/subtitles.txt', 'r') as f:\n",
    "    file_data = f.read()\n",
    "\n",
    "# 명사 추출\n",
    "nouns = kkma.nouns(file_data)\n",
    "# 결과 출력\n",
    "print(nouns)\n",
    "# 조금 지저분하게 뽑는 데이터.."
   ]
  },
  {
   "cell_type": "code",
   "execution_count": 7,
   "metadata": {},
   "outputs": [
    {
     "ename": "NotADirectoryError",
     "evalue": "[Errno 20] Not a directory: '/Users/subeenseo/Desktop/4-1/SW/subtitles.txt/'",
     "output_type": "error",
     "traceback": [
      "\u001b[0;31m---------------------------------------------------------------------------\u001b[0m",
      "\u001b[0;31mNotADirectoryError\u001b[0m                        Traceback (most recent call last)",
      "Cell \u001b[0;32mIn[7], line 12\u001b[0m\n\u001b[1;32m      9\u001b[0m lst \u001b[38;5;241m=\u001b[39m [\u001b[38;5;124m'\u001b[39m\u001b[38;5;124m죠\u001b[39m\u001b[38;5;124m'\u001b[39m, \u001b[38;5;124m'\u001b[39m\u001b[38;5;124m다\u001b[39m\u001b[38;5;124m'\u001b[39m, \u001b[38;5;124m'\u001b[39m\u001b[38;5;124m요\u001b[39m\u001b[38;5;124m'\u001b[39m, \u001b[38;5;124m'\u001b[39m\u001b[38;5;124m시오\u001b[39m\u001b[38;5;124m'\u001b[39m, \u001b[38;5;124m'\u001b[39m\u001b[38;5;124m습니까\u001b[39m\u001b[38;5;124m'\u001b[39m, \u001b[38;5;124m'\u001b[39m\u001b[38;5;124m십니까\u001b[39m\u001b[38;5;124m'\u001b[39m, \u001b[38;5;124m'\u001b[39m\u001b[38;5;124m됩니까\u001b[39m\u001b[38;5;124m'\u001b[39m, \u001b[38;5;124m'\u001b[39m\u001b[38;5;124m옵니까\u001b[39m\u001b[38;5;124m'\u001b[39m, \u001b[38;5;124m'\u001b[39m\u001b[38;5;124m뭡니까\u001b[39m\u001b[38;5;124m'\u001b[39m]\n\u001b[1;32m     11\u001b[0m \u001b[38;5;66;03m# 불용어 리스트 불러오기\u001b[39;00m\n\u001b[0;32m---> 12\u001b[0m df \u001b[38;5;241m=\u001b[39m \u001b[43mpd\u001b[49m\u001b[38;5;241;43m.\u001b[39;49m\u001b[43mread_csv\u001b[49m\u001b[43m(\u001b[49m\u001b[38;5;124;43m'\u001b[39;49m\u001b[38;5;124;43m/Users/subeenseo/Desktop/4-1/SW/subtitles.txt/\u001b[39;49m\u001b[38;5;124;43m'\u001b[39;49m\u001b[43m,\u001b[49m\u001b[43m \u001b[49m\u001b[43mencoding\u001b[49m\u001b[38;5;241;43m=\u001b[39;49m\u001b[38;5;124;43m'\u001b[39;49m\u001b[38;5;124;43mutf-8\u001b[39;49m\u001b[38;5;124;43m'\u001b[39;49m\u001b[43m)\u001b[49m\n\u001b[1;32m     13\u001b[0m not_verb \u001b[38;5;241m=\u001b[39m df[\u001b[38;5;124m'\u001b[39m\u001b[38;5;124mstop\u001b[39m\u001b[38;5;124m'\u001b[39m]\u001b[38;5;241m.\u001b[39mtolist()\n\u001b[1;32m     15\u001b[0m \u001b[38;5;66;03m# 단어 단위로 분할된 텍스트를 저장할 리스트\u001b[39;00m\n",
      "File \u001b[0;32m~/.conda/envs/문해기/lib/python3.10/site-packages/pandas/io/parsers/readers.py:948\u001b[0m, in \u001b[0;36mread_csv\u001b[0;34m(filepath_or_buffer, sep, delimiter, header, names, index_col, usecols, dtype, engine, converters, true_values, false_values, skipinitialspace, skiprows, skipfooter, nrows, na_values, keep_default_na, na_filter, verbose, skip_blank_lines, parse_dates, infer_datetime_format, keep_date_col, date_parser, date_format, dayfirst, cache_dates, iterator, chunksize, compression, thousands, decimal, lineterminator, quotechar, quoting, doublequote, escapechar, comment, encoding, encoding_errors, dialect, on_bad_lines, delim_whitespace, low_memory, memory_map, float_precision, storage_options, dtype_backend)\u001b[0m\n\u001b[1;32m    935\u001b[0m kwds_defaults \u001b[38;5;241m=\u001b[39m _refine_defaults_read(\n\u001b[1;32m    936\u001b[0m     dialect,\n\u001b[1;32m    937\u001b[0m     delimiter,\n\u001b[0;32m   (...)\u001b[0m\n\u001b[1;32m    944\u001b[0m     dtype_backend\u001b[38;5;241m=\u001b[39mdtype_backend,\n\u001b[1;32m    945\u001b[0m )\n\u001b[1;32m    946\u001b[0m kwds\u001b[38;5;241m.\u001b[39mupdate(kwds_defaults)\n\u001b[0;32m--> 948\u001b[0m \u001b[38;5;28;01mreturn\u001b[39;00m \u001b[43m_read\u001b[49m\u001b[43m(\u001b[49m\u001b[43mfilepath_or_buffer\u001b[49m\u001b[43m,\u001b[49m\u001b[43m \u001b[49m\u001b[43mkwds\u001b[49m\u001b[43m)\u001b[49m\n",
      "File \u001b[0;32m~/.conda/envs/문해기/lib/python3.10/site-packages/pandas/io/parsers/readers.py:611\u001b[0m, in \u001b[0;36m_read\u001b[0;34m(filepath_or_buffer, kwds)\u001b[0m\n\u001b[1;32m    608\u001b[0m _validate_names(kwds\u001b[38;5;241m.\u001b[39mget(\u001b[38;5;124m\"\u001b[39m\u001b[38;5;124mnames\u001b[39m\u001b[38;5;124m\"\u001b[39m, \u001b[38;5;28;01mNone\u001b[39;00m))\n\u001b[1;32m    610\u001b[0m \u001b[38;5;66;03m# Create the parser.\u001b[39;00m\n\u001b[0;32m--> 611\u001b[0m parser \u001b[38;5;241m=\u001b[39m \u001b[43mTextFileReader\u001b[49m\u001b[43m(\u001b[49m\u001b[43mfilepath_or_buffer\u001b[49m\u001b[43m,\u001b[49m\u001b[43m \u001b[49m\u001b[38;5;241;43m*\u001b[39;49m\u001b[38;5;241;43m*\u001b[39;49m\u001b[43mkwds\u001b[49m\u001b[43m)\u001b[49m\n\u001b[1;32m    613\u001b[0m \u001b[38;5;28;01mif\u001b[39;00m chunksize \u001b[38;5;129;01mor\u001b[39;00m iterator:\n\u001b[1;32m    614\u001b[0m     \u001b[38;5;28;01mreturn\u001b[39;00m parser\n",
      "File \u001b[0;32m~/.conda/envs/문해기/lib/python3.10/site-packages/pandas/io/parsers/readers.py:1448\u001b[0m, in \u001b[0;36mTextFileReader.__init__\u001b[0;34m(self, f, engine, **kwds)\u001b[0m\n\u001b[1;32m   1445\u001b[0m     \u001b[38;5;28mself\u001b[39m\u001b[38;5;241m.\u001b[39moptions[\u001b[38;5;124m\"\u001b[39m\u001b[38;5;124mhas_index_names\u001b[39m\u001b[38;5;124m\"\u001b[39m] \u001b[38;5;241m=\u001b[39m kwds[\u001b[38;5;124m\"\u001b[39m\u001b[38;5;124mhas_index_names\u001b[39m\u001b[38;5;124m\"\u001b[39m]\n\u001b[1;32m   1447\u001b[0m \u001b[38;5;28mself\u001b[39m\u001b[38;5;241m.\u001b[39mhandles: IOHandles \u001b[38;5;241m|\u001b[39m \u001b[38;5;28;01mNone\u001b[39;00m \u001b[38;5;241m=\u001b[39m \u001b[38;5;28;01mNone\u001b[39;00m\n\u001b[0;32m-> 1448\u001b[0m \u001b[38;5;28mself\u001b[39m\u001b[38;5;241m.\u001b[39m_engine \u001b[38;5;241m=\u001b[39m \u001b[38;5;28;43mself\u001b[39;49m\u001b[38;5;241;43m.\u001b[39;49m\u001b[43m_make_engine\u001b[49m\u001b[43m(\u001b[49m\u001b[43mf\u001b[49m\u001b[43m,\u001b[49m\u001b[43m \u001b[49m\u001b[38;5;28;43mself\u001b[39;49m\u001b[38;5;241;43m.\u001b[39;49m\u001b[43mengine\u001b[49m\u001b[43m)\u001b[49m\n",
      "File \u001b[0;32m~/.conda/envs/문해기/lib/python3.10/site-packages/pandas/io/parsers/readers.py:1705\u001b[0m, in \u001b[0;36mTextFileReader._make_engine\u001b[0;34m(self, f, engine)\u001b[0m\n\u001b[1;32m   1703\u001b[0m     \u001b[38;5;28;01mif\u001b[39;00m \u001b[38;5;124m\"\u001b[39m\u001b[38;5;124mb\u001b[39m\u001b[38;5;124m\"\u001b[39m \u001b[38;5;129;01mnot\u001b[39;00m \u001b[38;5;129;01min\u001b[39;00m mode:\n\u001b[1;32m   1704\u001b[0m         mode \u001b[38;5;241m+\u001b[39m\u001b[38;5;241m=\u001b[39m \u001b[38;5;124m\"\u001b[39m\u001b[38;5;124mb\u001b[39m\u001b[38;5;124m\"\u001b[39m\n\u001b[0;32m-> 1705\u001b[0m \u001b[38;5;28mself\u001b[39m\u001b[38;5;241m.\u001b[39mhandles \u001b[38;5;241m=\u001b[39m \u001b[43mget_handle\u001b[49m\u001b[43m(\u001b[49m\n\u001b[1;32m   1706\u001b[0m \u001b[43m    \u001b[49m\u001b[43mf\u001b[49m\u001b[43m,\u001b[49m\n\u001b[1;32m   1707\u001b[0m \u001b[43m    \u001b[49m\u001b[43mmode\u001b[49m\u001b[43m,\u001b[49m\n\u001b[1;32m   1708\u001b[0m \u001b[43m    \u001b[49m\u001b[43mencoding\u001b[49m\u001b[38;5;241;43m=\u001b[39;49m\u001b[38;5;28;43mself\u001b[39;49m\u001b[38;5;241;43m.\u001b[39;49m\u001b[43moptions\u001b[49m\u001b[38;5;241;43m.\u001b[39;49m\u001b[43mget\u001b[49m\u001b[43m(\u001b[49m\u001b[38;5;124;43m\"\u001b[39;49m\u001b[38;5;124;43mencoding\u001b[39;49m\u001b[38;5;124;43m\"\u001b[39;49m\u001b[43m,\u001b[49m\u001b[43m \u001b[49m\u001b[38;5;28;43;01mNone\u001b[39;49;00m\u001b[43m)\u001b[49m\u001b[43m,\u001b[49m\n\u001b[1;32m   1709\u001b[0m \u001b[43m    \u001b[49m\u001b[43mcompression\u001b[49m\u001b[38;5;241;43m=\u001b[39;49m\u001b[38;5;28;43mself\u001b[39;49m\u001b[38;5;241;43m.\u001b[39;49m\u001b[43moptions\u001b[49m\u001b[38;5;241;43m.\u001b[39;49m\u001b[43mget\u001b[49m\u001b[43m(\u001b[49m\u001b[38;5;124;43m\"\u001b[39;49m\u001b[38;5;124;43mcompression\u001b[39;49m\u001b[38;5;124;43m\"\u001b[39;49m\u001b[43m,\u001b[49m\u001b[43m \u001b[49m\u001b[38;5;28;43;01mNone\u001b[39;49;00m\u001b[43m)\u001b[49m\u001b[43m,\u001b[49m\n\u001b[1;32m   1710\u001b[0m \u001b[43m    \u001b[49m\u001b[43mmemory_map\u001b[49m\u001b[38;5;241;43m=\u001b[39;49m\u001b[38;5;28;43mself\u001b[39;49m\u001b[38;5;241;43m.\u001b[39;49m\u001b[43moptions\u001b[49m\u001b[38;5;241;43m.\u001b[39;49m\u001b[43mget\u001b[49m\u001b[43m(\u001b[49m\u001b[38;5;124;43m\"\u001b[39;49m\u001b[38;5;124;43mmemory_map\u001b[39;49m\u001b[38;5;124;43m\"\u001b[39;49m\u001b[43m,\u001b[49m\u001b[43m \u001b[49m\u001b[38;5;28;43;01mFalse\u001b[39;49;00m\u001b[43m)\u001b[49m\u001b[43m,\u001b[49m\n\u001b[1;32m   1711\u001b[0m \u001b[43m    \u001b[49m\u001b[43mis_text\u001b[49m\u001b[38;5;241;43m=\u001b[39;49m\u001b[43mis_text\u001b[49m\u001b[43m,\u001b[49m\n\u001b[1;32m   1712\u001b[0m \u001b[43m    \u001b[49m\u001b[43merrors\u001b[49m\u001b[38;5;241;43m=\u001b[39;49m\u001b[38;5;28;43mself\u001b[39;49m\u001b[38;5;241;43m.\u001b[39;49m\u001b[43moptions\u001b[49m\u001b[38;5;241;43m.\u001b[39;49m\u001b[43mget\u001b[49m\u001b[43m(\u001b[49m\u001b[38;5;124;43m\"\u001b[39;49m\u001b[38;5;124;43mencoding_errors\u001b[39;49m\u001b[38;5;124;43m\"\u001b[39;49m\u001b[43m,\u001b[49m\u001b[43m \u001b[49m\u001b[38;5;124;43m\"\u001b[39;49m\u001b[38;5;124;43mstrict\u001b[39;49m\u001b[38;5;124;43m\"\u001b[39;49m\u001b[43m)\u001b[49m\u001b[43m,\u001b[49m\n\u001b[1;32m   1713\u001b[0m \u001b[43m    \u001b[49m\u001b[43mstorage_options\u001b[49m\u001b[38;5;241;43m=\u001b[39;49m\u001b[38;5;28;43mself\u001b[39;49m\u001b[38;5;241;43m.\u001b[39;49m\u001b[43moptions\u001b[49m\u001b[38;5;241;43m.\u001b[39;49m\u001b[43mget\u001b[49m\u001b[43m(\u001b[49m\u001b[38;5;124;43m\"\u001b[39;49m\u001b[38;5;124;43mstorage_options\u001b[39;49m\u001b[38;5;124;43m\"\u001b[39;49m\u001b[43m,\u001b[49m\u001b[43m \u001b[49m\u001b[38;5;28;43;01mNone\u001b[39;49;00m\u001b[43m)\u001b[49m\u001b[43m,\u001b[49m\n\u001b[1;32m   1714\u001b[0m \u001b[43m\u001b[49m\u001b[43m)\u001b[49m\n\u001b[1;32m   1715\u001b[0m \u001b[38;5;28;01massert\u001b[39;00m \u001b[38;5;28mself\u001b[39m\u001b[38;5;241m.\u001b[39mhandles \u001b[38;5;129;01mis\u001b[39;00m \u001b[38;5;129;01mnot\u001b[39;00m \u001b[38;5;28;01mNone\u001b[39;00m\n\u001b[1;32m   1716\u001b[0m f \u001b[38;5;241m=\u001b[39m \u001b[38;5;28mself\u001b[39m\u001b[38;5;241m.\u001b[39mhandles\u001b[38;5;241m.\u001b[39mhandle\n",
      "File \u001b[0;32m~/.conda/envs/문해기/lib/python3.10/site-packages/pandas/io/common.py:872\u001b[0m, in \u001b[0;36mget_handle\u001b[0;34m(path_or_buf, mode, encoding, compression, memory_map, is_text, errors, storage_options)\u001b[0m\n\u001b[1;32m    863\u001b[0m         handle \u001b[38;5;241m=\u001b[39m \u001b[38;5;28mopen\u001b[39m(\n\u001b[1;32m    864\u001b[0m             handle,\n\u001b[1;32m    865\u001b[0m             ioargs\u001b[38;5;241m.\u001b[39mmode,\n\u001b[0;32m   (...)\u001b[0m\n\u001b[1;32m    868\u001b[0m             newline\u001b[38;5;241m=\u001b[39m\u001b[38;5;124m\"\u001b[39m\u001b[38;5;124m\"\u001b[39m,\n\u001b[1;32m    869\u001b[0m         )\n\u001b[1;32m    870\u001b[0m     \u001b[38;5;28;01melse\u001b[39;00m:\n\u001b[1;32m    871\u001b[0m         \u001b[38;5;66;03m# Binary mode\u001b[39;00m\n\u001b[0;32m--> 872\u001b[0m         handle \u001b[38;5;241m=\u001b[39m \u001b[38;5;28;43mopen\u001b[39;49m\u001b[43m(\u001b[49m\u001b[43mhandle\u001b[49m\u001b[43m,\u001b[49m\u001b[43m \u001b[49m\u001b[43mioargs\u001b[49m\u001b[38;5;241;43m.\u001b[39;49m\u001b[43mmode\u001b[49m\u001b[43m)\u001b[49m\n\u001b[1;32m    873\u001b[0m     handles\u001b[38;5;241m.\u001b[39mappend(handle)\n\u001b[1;32m    875\u001b[0m \u001b[38;5;66;03m# Convert BytesIO or file objects passed with an encoding\u001b[39;00m\n",
      "\u001b[0;31mNotADirectoryError\u001b[0m: [Errno 20] Not a directory: '/Users/subeenseo/Desktop/4-1/SW/subtitles.txt/'"
     ]
    }
   ],
   "source": [
    "from konlpy.tag import Kkma \n",
    "import pandas as pd\n",
    "\n",
    "kkma = Kkma()\n",
    "text_ = \"여기에 분석할 한국어 텍스트를 넣어주세요.\"  # 분석할 텍스트를 적절한 문자열로 대체해주세요.\n",
    "text_sentences = kkma.sentences(text_)  # 문장 분리\n",
    "\n",
    "# 종결 단어 리스트\n",
    "lst = ['죠', '다', '요', '시오', '습니까', '십니까', '됩니까', '옵니까', '뭡니까']\n",
    "\n",
    "# 불용어 리스트 불러오기\n",
    "df = pd.read_csv('/Users/subeenseo/Desktop/4-1/SW/subtitles.txt', encoding='utf-8')\n",
    "not_verb = df['stop'].tolist()\n",
    "\n",
    "# 단어 단위로 분할된 텍스트를 저장할 리스트\n",
    "text_all = []\n",
    "\n",
    "# 단어 단위로 끊기\n",
    "for sentence in text_sentences:\n",
    "    words = sentence.split()\n",
    "    for word in words:\n",
    "        text_all.append(word)\n",
    "\n",
    "# 종결 단어가 나오면 문장을 종결 기호로 바꿈\n",
    "for n in range(len(text_all)):\n",
    "    i = text_all[n]\n",
    "    if len(i) == 1:\n",
    "        continue\n",
    "    else:\n",
    "        for j in lst:\n",
    "            if j in i:\n",
    "                if j in lst[4]:  # '습니까' 등이면 물음표로 변경\n",
    "                    i += '?'\n",
    "                elif j == '시오':  # '시오'는 느낌표로 변경\n",
    "                    i += '!'\n",
    "                else:\n",
    "                    if i in not_verb:\n",
    "                        continue\n",
    "                    else:\n",
    "                        if j == i[len(i)-1]:\n",
    "                            i += '.'  # 종결 단어면 마침표로 변경\n",
    "                            text_all[n] = i  # 변경된 문장을 리스트에 반영\n",
    "                            break\n",
    "\n",
    "# 결과 출력\n",
    "print(' '.join(text_all))"
   ]
  }
 ],
 "metadata": {
  "kernelspec": {
   "display_name": "Python 3",
   "language": "python",
   "name": "python3"
  },
  "language_info": {
   "codemirror_mode": {
    "name": "ipython",
    "version": 3
   },
   "file_extension": ".py",
   "mimetype": "text/x-python",
   "name": "python",
   "nbconvert_exporter": "python",
   "pygments_lexer": "ipython3",
   "version": "3.10.13"
  }
 },
 "nbformat": 4,
 "nbformat_minor": 2
}
