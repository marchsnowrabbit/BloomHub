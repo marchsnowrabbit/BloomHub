{
 "cells": [
  {
   "cell_type": "code",
   "execution_count": null,
   "metadata": {},
   "outputs": [],
   "source": [
    "pip show pandas"
   ]
  },
  {
   "cell_type": "code",
   "execution_count": null,
   "metadata": {},
   "outputs": [],
   "source": [
    "pip install youtube-transcript-api"
   ]
  },
  {
   "cell_type": "code",
   "execution_count": null,
   "metadata": {},
   "outputs": [],
   "source": [
    "pip install pandas"
   ]
  },
  {
   "cell_type": "code",
   "execution_count": null,
   "metadata": {},
   "outputs": [],
   "source": [
    "pip install JPype1-py3"
   ]
  },
  {
   "cell_type": "code",
   "execution_count": 77,
   "metadata": {},
   "outputs": [
    {
     "name": "stderr",
     "output_type": "stream",
     "text": [
      "57264.32s - pydevd: Sending message related to process being replaced timed-out after 5 seconds\n"
     ]
    },
    {
     "name": "stdout",
     "output_type": "stream",
     "text": [
      "Requirement already satisfied: konlpy in /Users/subeenseo/.conda/envs/문해기/lib/python3.10/site-packages (0.6.0)\n",
      "Requirement already satisfied: JPype1>=0.7.0 in /Users/subeenseo/.conda/envs/문해기/lib/python3.10/site-packages (from konlpy) (1.5.0)\n",
      "Requirement already satisfied: lxml>=4.1.0 in /Users/subeenseo/.conda/envs/문해기/lib/python3.10/site-packages (from konlpy) (5.2.1)\n",
      "Requirement already satisfied: numpy>=1.6 in /Users/subeenseo/.conda/envs/문해기/lib/python3.10/site-packages (from konlpy) (1.26.4)\n",
      "Requirement already satisfied: packaging in /Users/subeenseo/.conda/envs/문해기/lib/python3.10/site-packages (from JPype1>=0.7.0->konlpy) (24.0)\n"
     ]
    }
   ],
   "source": [
    "! pip install konlpy "
   ]
  },
  {
   "cell_type": "code",
   "execution_count": 1,
   "metadata": {},
   "outputs": [
    {
     "name": "stdout",
     "output_type": "stream",
     "text": [
      "Intel MKL WARNING: Support of Intel(R) Streaming SIMD Extensions 4.2 (Intel(R) SSE4.2) enabled only processors has been deprecated. Intel oneAPI Math Kernel Library 2025.0 will require Intel(R) Advanced Vector Extensions (Intel(R) AVX) instructions.\n",
      "Intel MKL WARNING: Support of Intel(R) Streaming SIMD Extensions 4.2 (Intel(R) SSE4.2) enabled only processors has been deprecated. Intel oneAPI Math Kernel Library 2025.0 will require Intel(R) Advanced Vector Extensions (Intel(R) AVX) instructions.\n"
     ]
    }
   ],
   "source": [
    "from konlpy.tag import Okt\n",
    "from konlpy.tag import Kkma \n",
    "from konlpy.tag import Komoran\n",
    "import pandas as pd"
   ]
  },
  {
   "cell_type": "markdown",
   "metadata": {},
   "source": [
    "자막 추출"
   ]
  },
  {
   "cell_type": "code",
   "execution_count": 2,
   "metadata": {},
   "outputs": [],
   "source": [
    "from youtube_transcript_api import YouTubeTranscriptApi\n",
    "\n",
    "video_id = \"xNMGGQIU8FU&list=PLMsa_0kAjjrdiwQykI8eb3H4IRxLTqCnP&index=3\"  # 다운로드하고자 하는 YouTube 비디오 ID\n",
    "transcript_list = YouTubeTranscriptApi.list_transcripts(\"xNMGGQIU8FU&list=PLMsa_0kAjjrdiwQykI8eb3H4IRxLTqCnP&index=3\")\n",
    "\n",
    "# 한국어로 된 자막을 선택\n",
    "transcript = transcript_list.find_transcript(['ko'])\n",
    "\n",
    "if transcript:\n",
    "    with open(\"subtitles.txt\", \"w\", encoding='utf-8') as f:\n",
    "        for caption in transcript.fetch():\n",
    "            text = caption['text']\n",
    "            f.write(f\"{text}\\n\")\n",
    "else:\n",
    "    print(\"한국어 자막을 찾을 수 없습니다.\")"
   ]
  },
  {
   "cell_type": "markdown",
   "metadata": {},
   "source": [
    "문장 확인(원본)"
   ]
  },
  {
   "cell_type": "markdown",
   "metadata": {},
   "source": [
    "추출해보기\n",
    "1. 불용어 제거 -> 명확한 토큰화 // 파일 받아와서이용 https://github.com/stopwords-iso/stopwords-ko?tab=readme-ov-file\n",
    "2. 명사 추출\n",
    "3. 동사 추출"
   ]
  },
  {
   "cell_type": "code",
   "execution_count": 3,
   "metadata": {},
   "outputs": [
    {
     "name": "stdout",
     "output_type": "stream",
     "text": [
      "시작 페이지 에는 얘기 x 놀라서 다 버리시고 \n",
      " 왼쪽 위 파일 새로 만들기 프로젝트 \n",
      " 이제 클릭 하고 윈도우 cd x 톱 윈도우즈 데스크 마법사 클릭 하고 \n",
      " 이름 플로 거리 라고 좋겠습니다 \n",
      " 이제 확인 눌러 주시구요 \n",
      " 서는 이제 추가 옵션 빈 프로젝트 만하 \n",
      " 미리 컴파일 된 헤더 는 없애 버리시고 깨끗한 상태 한번 시작 해 볼게요 \n",
      " 확인 \n",
      " 이렇게 하고 니까 왼쪽 솔루션 생기 헬로 5월 b 라는 프로젝트 \n",
      " 생겼습니다 \n",
      " 참조 외부 종 속성 요런 홀더 도 생기고요 \n",
      " 할 은 이제 소스 파일 이랑 폴더 오른쪽 클릭 추가 새 \n",
      " 항목 클릭 해 보고 요 이제 처음 코딩 시작 해 보는 거 예요 \n",
      " 쪽 c 플러스 플러스 알파 이라고 적혀있는데 요 거 확대 상태 \n",
      " 이름 은 \n",
      " 펠 오월드 점 c 라고만 주세요 \n",
      " cpp 적어 버리면 10 플러스 플러스 되어서 는 싫어할 거 \n",
      " 기 때문 취 까지만 적어주시고 추가 누르시면 됩니다 \n",
      " 새로운 창 열리고 헬로 월드 c 라는 파일 이니 만들어졌죠 \n",
      " 서는 예제 한번 적어 볼게요 지금 은 내용 모르셔도 괜찮으니까 \n",
      " 접으시고 나중 차차 내용 대해 서 설명 드리도록 \n",
      " 하겠습니다 \n",
      "  킹 크루즈 \n",
      " 꺽쇠 열고 stdio h \n",
      " 턱선 갖고 \n",
      " 피 니 트 밍 하루 열고 보이드 \n",
      " 악보 중 괄호 열고 달아요 \n",
      " 여기는 꺽 작은 가로 중 가로 \n",
      " 과로 들이 많이 나온다 o 핑 테스트 앱 스크 \n",
      " 열고 큰따옴표 \n",
      " 헬로 뭐 됩니까 \n",
      " 까지만 적고 오른쪽 맨 끝 세미콜론 주세요 \n",
      " 땅 주 탐 \n",
      " 세미콜론 이렇게 하고 컨트롤 보벌 누르면 실행 됩니다 \n",
      " 게 만든 프로그램 이고 \n",
      " 직접 실행 시켜 보는 거 에요 \n",
      " 실행 시켜 보면 \n",
      " 이렇게 커맨드 창 뜨고 입력 했던 헬로 월드 라는 글자 \n",
      " 출력 됩니다 \n",
      " 항상 끝 에는 뭐 계속 하려면 아무 키 누르십시오 라고 나오구요 \n",
      " 이렇게 첫 번째 프로그램 은 완성 되었고 이제 이렇게 \n",
      " 되면 환경 설정 다 끝난 거 에요 \n",
      " 앞 으론 더 자세히 쉽게 \n",
      " 한번 프로그램 배워 보도록 하겠습니다 \n",
      "\n"
     ]
    }
   ],
   "source": [
    "from konlpy.tag import Okt\n",
    "\n",
    "def removestopwords(text, stop_words):\n",
    "    okt = Okt()\n",
    "    text = text.replace('#', '')\n",
    "    tokens = okt.morphs(text)\n",
    "    tokens = [token for token in tokens if token not in stop_words]\n",
    "    return ' '.join(tokens)\n",
    "# 불용어 집합(Set)을 파일로부터 읽어오기\n",
    "with open('/Users/subeenseo/Desktop/4-1/SW/stopwords-ko.txt', 'r', encoding='utf-8') as file:\n",
    "    stop_words = set(line.strip() for line in file)\n",
    "# 원본자막\n",
    "with open('/Users/subeenseo/Desktop/4-1/SW/subtitles.txt', 'r') as f:\n",
    "    file_data = f.read()\n",
    "# 텍스트에서 불용어 제거\n",
    "filtered_sentences = removestopwords(file_data,stop_words)\n",
    "print(filtered_sentences)"
   ]
  },
  {
   "cell_type": "markdown",
   "metadata": {},
   "source": [
    "단어 출력 실행 속도랑 결과  비교하기! 한글자인것은 제외하고 저장"
   ]
  },
  {
   "cell_type": "code",
   "execution_count": 4,
   "metadata": {},
   "outputs": [],
   "source": [
    "def filter_words(words):\n",
    "    filtered_words = []\n",
    "    for word in words:\n",
    "        if len(word) > 1: \n",
    "            filtered_words.append(word)\n",
    "    return filtered_words"
   ]
  },
  {
   "cell_type": "code",
   "execution_count": 5,
   "metadata": {},
   "outputs": [
    {
     "name": "stdout",
     "output_type": "stream",
     "text": [
      "['시작', '페이지', '얘기', '왼쪽', '파일', '프로젝트', '클릭', '윈도우', '윈도', '우즈', '데스크', '마법사', '클릭', '이름', '플로', '거리', '라고', '확인', '추가', '옵션', '프로젝트', '컴파일', '헤더', '상태', '시작', '확인', '왼쪽', '솔루션', '생기', '헬로', '5월', '프로젝트', '참조', '외부', '속성', '소스', '파일', '이랑', '폴더', '오른쪽', '클릭', '추가', '항목', '클릭', '처음', '시작', '플러스', '플러스', '알파', '확대', '상태', '이름', '월드', '라고', '플러스', '플러스', '때문', '추가', '헬로', '월드', '파일', '예제', '내용', '나중', '차차', '내용', '설명', '크루즈', '하루', '보이', '악보', '괄호', '가로', '가로', '테스트', '따옴표', '헬로', '오른쪽', '세미', '콜론 주', '세미', '콜론', '컨트롤', '실행', '프로그램', '이고', '실행', '실행', '입력', '헬로', '월드', '글자', '출력', '아무 키', '라고', '프로그램', '완성', '환경', '설정', '프로그램']\n"
     ]
    }
   ],
   "source": [
    "komo = Komoran()\n",
    "filtered_nouns = filter_words(komo.nouns(filtered_sentences))\n",
    "print(filtered_nouns)"
   ]
  },
  {
   "cell_type": "code",
   "execution_count": 6,
   "metadata": {},
   "outputs": [
    {
     "name": "stdout",
     "output_type": "stream",
     "text": [
      "['시작', '페이지', '얘기', '왼쪽', '파일', '만들기', '프로젝트', '클릭', '윈도', '윈도우', '윈도우즈', '데스크', '마법사', '이름', '거리', '확인', '추가', '옵션', '미리', '컴파일', '헤더', '버리시고', '상태', '한번', '솔루션', '생기', '5월', '참조', '외부', '속성', '홀더', '이제', '소스', '오른쪽', '항목', '보고', '처음', '코딩', '플러스', '확대', '오월드', '월드', '10', '때문', '예제', '내용', '나중', '설명', '크루즈', '꺽쇠', '열고', '하루', '보이드', '악보', '괄호', '여기', '가로', '과로', '테스트', '스크', '큰따옴표', '세미', '세미콜론', '콜론', '주세', '컨트롤', '보벌', '실행', '프로그램', '커맨드', '입력', '글자', '출력', '번째', '완성', '환경', '설정']\n"
     ]
    }
   ],
   "source": [
    "kkma = Kkma()\n",
    "filtered_nouns= filter_words(kkma.nouns(filtered_sentences))\n",
    "print(filtered_nouns)"
   ]
  },
  {
   "cell_type": "markdown",
   "metadata": {},
   "source": [
    "동사도 추출할 경우 pos"
   ]
  },
  {
   "cell_type": "code",
   "execution_count": 10,
   "metadata": {},
   "outputs": [
    {
     "name": "stdout",
     "output_type": "stream",
     "text": [
      "명사: ['시작', '페이지', '얘기', '왼쪽', '파일', '프로젝트', '클릭', '윈도우', '윈도', '우즈', '데스크', '마법사', '클릭', '이름', '플로', '거리', '라고', '확인', '추가', '옵션', '프로젝트', '컴파일', '헤더', '상태', '시작', '확인', '왼쪽', '솔루션', '생기', '헬로', '5월', '프로젝트', '참조', '외부', '속성', '소스', '파일', '이랑', '폴더', '오른쪽', '클릭', '추가', '항목', '클릭', '처음', '시작', '플러스', '플러스', '알파', '확대', '상태', '이름', '월드', '라고', '플러스', '플러스', '때문', '추가', '헬로', '월드', '파일', '예제', '내용', '나중', '차차', '내용', '설명', '크루즈', '하루', '보이', '악보', '괄호', '여기', '가로', '가로', '테스트', '스크', '따옴표', '헬로', '오른쪽', '세미', '콜론 주', '세미', '콜론', '컨트롤', '실행', '프로그램', '이고', '실행', '실행', '입력', '헬로', '월드', '글자', '출력', '아무 키', '라고', '프로그램', '완성', '환경', '설정', '프로그램']\n",
      "동사: ['놀라', '버리', '만들', '누르', '없애', '버리', '이렇', '생기', '생기', '적히', '버리', '싫어하', '누르', '새롭', '열리', '만들', '모르', '괜찮', '대하', '드리', '나오', '이렇', '누르', '만들', '시키', '시키', '이렇', '누르', '나오', '이렇', '이렇', '끝나', '배우']\n"
     ]
    }
   ],
   "source": [
    "morphs = komo.pos(filtered_sentences)\n",
    "nouns = [word for word, pos in morphs if pos.startswith('N')]\n",
    "verbs = [word for word, pos in morphs if pos.startswith('V')]\n",
    "nouns = filter_words(nouns)\n",
    "verbs = filter_words(verbs)\n",
    "print(\"명사:\", nouns)\n",
    "print(\"동사:\", verbs)"
   ]
  },
  {
   "cell_type": "code",
   "execution_count": 11,
   "metadata": {},
   "outputs": [
    {
     "name": "stdout",
     "output_type": "stream",
     "text": [
      "명사: ['시작', '페이지', '얘기', '왼쪽', '파일', '만들기', '프로젝트', '클릭', '윈도', '윈도우', '데스크', '마법사', '클릭', '이름', '거리', '확인', '추가', '옵션', '프로젝트', '컴파일', '헤더', '상태', '한번', '시작', '확인', '왼쪽', '솔루션', '생기', '프로젝트', '참조', '외부', '속성', '홀더', '이제', '소스', '파일', '오른쪽', '클릭', '추가', '항목', '클릭', '보고', '처음', '코딩', '시작', '플러스', '플러스', '확대', '상태', '이름', '월드', '10', '플러스', '플러스', '때문', '추가', '월드', '파일', '예제', '내용', '나중', '내용', '설명', '크루즈', '꺽쇠', '열고', '하루', '열고', '보이드', '악보', '괄호', '열고', '여기', '가로', '가로', '과로', '테스트', '열고', '큰따옴표', '오른쪽', '세미', '콜론', '주세', '세미', '콜론', '컨트롤', '실행', '프로그램', '실행', '실행', '커맨드', '입력', '월드', '글자', '출력', '번째', '프로그램', '완성', '환경', '설정', '한번', '프로그램']\n",
      "동사: ['놀라', '버리', '눌르', '없애', '이렇', '생기', '생기', '적히', '버리', '누르', '새롭', '열리', '만들', '모르', '괜찮', '대하', '드리', '나오', '이렇', '누르', '만들', '시키', '시키', '누르', '나오', '이렇', '끝나', '배우']\n"
     ]
    }
   ],
   "source": [
    "morphs= kkma.pos(filtered_sentences)\n",
    "nouns = [word for word, pos in morphs if pos.startswith('N')]\n",
    "verbs = [word for word, pos in morphs if pos.startswith('V')]\n",
    "nouns = filter_words(nouns)\n",
    "verbs = filter_words(verbs)\n",
    "print(\"명사:\", nouns)\n",
    "print(\"동사:\", verbs)"
   ]
  },
  {
   "cell_type": "code",
   "execution_count": 80,
   "metadata": {},
   "outputs": [
    {
     "name": "stdout",
     "output_type": "stream",
     "text": [
      "['시작', '시작페이지', '페이지', '얘기', '왼쪽', '위의', '파일', '만들기', '프로젝트', '클릭', '윈도', '윈도우', '우', '톱', '윈도우즈', '즈', '데스크', '마법사', '이름', '플', '거리', '확인', '여기', '추가', '옵션', '컴파일', '헤더', '버리시고', '상태', '솔루션', '로', '5', '5월', '월', '라', '참조', '외부', '종속', '홀더', '도', '우리', '이제', '소스', '폴더', '오른쪽', '항목', '보고', '여러분', '처음', '코딩', '거', '이쪽', '플러스', '알', '요거', '확대', '펠로', '오', '오월드', '월드', '점', '10', '기', '때문', '취', '창', '예제', '지금', '내용', '나중', '설명', '킹', '크루즈', '꺽쇠', '턱', '턱선', '선', '피', '니', '밍', '하루', '열고', '보이드', '악', '악보', '보', '다음', '중', '괄호', '3', '가로', '중', '과로', '테스트', '앱', '스크', '큰따옴표', '뭐', '맨', '끝', '세미', '세미콜론', '콜론', '주세', '땅', '주', '1', '0', '4', '컨트롤', '보벌', '벌', '을', '실행', '이것', '프로그램', '커맨드', '창이', '하나', '입력', '글자', '출력', '계속', '키나', '번째', '완성', '환경', '설정', '앞', '한번']\n"
     ]
    }
   ],
   "source": [
    "from konlpy.tag import Kkma\n",
    "kkma = Kkma()\n",
    "# 파일 열기\n",
    "with open('/Users/subeenseo/Desktop/4-1/SW/subtitles.txt', 'r') as f:\n",
    "    file_data = f.read()\n",
    "\n",
    "# 명사 추출\n",
    "nouns = kkma.nouns(file_data)\n",
    "# 결과 출력\n",
    "print(nouns)\n",
    "# 조금 지저분하게 뽑는 데이터.."
   ]
  },
  {
   "cell_type": "markdown",
   "metadata": {},
   "source": [
    "Konlpy와 세그먼트를 조합하여 유용한 결과를 얻는 방법은 다양합니다. 아래는 몇 가지 가능한 방법입니다:\n",
    "\n",
    "Konlpy로 텍스트 처리 후 세그먼트 적용:\n",
    "\n",
    "먼저 Konlpy를 사용하여 유튜브 자막을 처리하고, 형태소 분석이나 품사 태깅 등을 통해 각 단어의 의미를 추출합니다.\n",
    "그 다음, 처리된 텍스트를 세그먼트로 나누어 각각의 세그먼트에 대해 주제를 구분하고 학습 태그를 부여합니다.\n",
    "이렇게 함으로써 세그먼트의 내용을 보다 정확하게 파악하고, 각각의 주제에 대해 적절한 학습 태그를 부여할 수 있습니다.\n",
    "세그먼트 적용 후 Konlpy로 텍스트 분석:\n",
    "\n",
    "먼저 유튜브 자막을 세그먼트로 나누어 각각의 세그먼트를 독립적으로 처리합니다.\n",
    "각 세그먼트에 대해 텍스트 처리를 완료한 후, Konlpy를 사용하여 형태소 분석이나 품사 태깅 등을 수행하여 단어의 의미를 추출합니다.\n",
    "이렇게 함으로써 세그먼트 내의 각 문장이나 문단에 대해 보다 정확한 의미 분석을 수행하고, 세그먼트의 주제에 대한 상세한 정보를 얻을 수 있습니다.\n",
    "결과 통합:\n",
    "\n",
    "각각의 방법으로 처리된 결과를 통합하여 최종적으로 유용한 정보를 얻을 수 있습니다.\n",
    "예를 들어, 세그먼트로 나누어진 각 주제에 대해 Konlpy를 사용하여 텍스트를 분석하고, 그 결과를 종합하여 전체적인 학습 태그를 부여할 수 있습니"
   ]
  },
  {
   "cell_type": "code",
   "execution_count": null,
   "metadata": {},
   "outputs": [],
   "source": [
    "from konlpy.tag import Okt\n",
    "import pandas as pd\n",
    "\n",
    "class KoreanScriptExtractor:\n",
    "    def __init__(self, vid, setTime, NUM_OF_WORDS=5):\n",
    "        self.vid = vid\n",
    "        self.scriptData = []\n",
    "        self.setTime = setTime\n",
    "        self.NUM_OF_WORDS = NUM_OF_WORDS\n",
    "\n",
    "    # 유튜브 스크립트 추출\n",
    "    def extract(self):\n",
    "        # 여기서는 유튜브 스크립트를 가져오는 대신 예시로 미리 정의한 세그먼트를 사용합니다.\n",
    "        segments = [\n",
    "            \"안녕하세요. 반가워요.\",\n",
    "            \"오늘은 자연어 처리에 대해 배워보겠습니다.\",\n",
    "            \"자연어 처리는 컴퓨터가 인간의 언어를 이해하고 처리하는 분야입니다.\"\n",
    "        ]\n",
    "        self.scriptData = segments\n",
    "\n",
    "    # 불용어 제거\n",
    "    def remove_stopwords(self, text):\n",
    "        with open('/Users/subeenseo/Desktop/4-1/SW/stopwords-ko.txt', 'r', encoding='utf-8') as file:\n",
    "            stopwords = set(line.strip() for line in file)\n",
    "        return \" \".join(word for word in text.split() if word not in stopwords)\n",
    "\n",
    "    # Konlpy를 사용하여 형태소 분석 및 품사 태깅\n",
    "    def konlpy_analysis(self):\n",
    "        okt = Okt()  # Konlpy의 Okt 형태소 분석기 인스턴스 생성\n",
    "\n",
    "        for segment in self.scriptData:\n",
    "            analyzed_segment = okt.pos(segment)\n",
    "            nouns = [word for word, pos in analyzed_segment if pos.startswith('N')]\n",
    "            filtered_nouns = [self.remove_stopwords(word) for word in nouns]\n",
    "            print(\"Segment Nouns (after removing stopwords):\", filtered_nouns)\n",
    "\n",
    "    # Wikifier API를 사용하여 개념 추출\n",
    "    def call_wikifier(self, text, lang=\"en\", threshold=0.8, numberOfKCs=10):\n",
    "        # Wikifier API 호출 및 응답 받아오는 부분은 기존 코드와 동일하므로 생략합니다.\n",
    "        # 여기서는 예시로 단순히 더미 데이터를 반환합니다.\n",
    "        return [{\"title\": \"dummy_title\", \"url\": \"dummy_url\", \"pageRank\": 0.0}] * numberOfKCs\n",
    "\n",
    "    # 세그먼트를 Wikifier API로 호출하여 개념 추출하고 결과를 DataFrame으로 반환\n",
    "    def url_to_wiki(self):\n",
    "        self.extract()\n",
    "\n",
    "        results = []\n",
    "        for text in self.scriptData:\n",
    "            results.append(self.call_wikifier(text=text, numberOfKCs=self.NUM_OF_WORDS))\n",
    "\n",
    "        wiki_data = pd.DataFrame()\n",
    "        seg_no = 1\n",
    "\n",
    "        for seg_item in results:\n",
    "            seg_df = pd.DataFrame(seg_item)\n",
    "            seg_df['seg_no'] = seg_no\n",
    "            seg_df['understand'] = 0\n",
    "            wiki_data = pd.concat([wiki_data, seg_df])\n",
    "            seg_no = seg_no + 1\n",
    "\n",
    "        wiki_data.index = range(len(wiki_data))\n",
    "        return wiki_data\n",
    "\n",
    "if __name__ == \"__main__\":\n",
    "    extractor = KoreanScriptExtractor(vid=\"유튜브 영상 ID\", setTime=600)\n",
    "    wiki_data = extractor.url_to_wiki()\n",
    "    print(wiki_data)\n"
   ]
  }
 ],
 "metadata": {
  "kernelspec": {
   "display_name": "Python 3",
   "language": "python",
   "name": "python3"
  },
  "language_info": {
   "codemirror_mode": {
    "name": "ipython",
    "version": 3
   },
   "file_extension": ".py",
   "mimetype": "text/x-python",
   "name": "python",
   "nbconvert_exporter": "python",
   "pygments_lexer": "ipython3",
   "version": "3.10.13"
  }
 },
 "nbformat": 4,
 "nbformat_minor": 2
}
